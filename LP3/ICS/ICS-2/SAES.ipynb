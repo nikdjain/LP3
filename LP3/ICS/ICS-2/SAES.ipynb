{
  "nbformat": 4,
  "nbformat_minor": 0,
  "metadata": {
    "colab": {
      "name": "SAES.ipynb",
      "provenance": [],
      "collapsed_sections": [
        "x1rWA5fgMIPT"
      ],
      "toc_visible": true
    },
    "kernelspec": {
      "name": "python3",
      "display_name": "Python 3"
    },
    "language_info": {
      "name": "python"
    }
  },
  "cells": [
    {
      "cell_type": "code",
      "metadata": {
        "colab": {
          "base_uri": "https://localhost:8080/"
        },
        "id": "RNi_vRwTEtcg",
        "outputId": "e2fadcf8-623c-4902-c22e-7e31230af734"
      },
      "source": [
        "!pip install GaloisField"
      ],
      "execution_count": null,
      "outputs": [
        {
          "output_type": "stream",
          "text": [
            "Collecting GaloisField\n",
            "  Downloading https://files.pythonhosted.org/packages/13/5b/2072f6ad9f3353b18af8905231f0d33b1b54b6c317ac7fab37f2d20240f9/GaloisField-0.1.1-py3-none-any.whl\n",
            "Installing collected packages: GaloisField\n",
            "Successfully installed GaloisField-0.1.1\n"
          ],
          "name": "stdout"
        }
      ]
    },
    {
      "cell_type": "code",
      "metadata": {
        "id": "cYwwhPfdDJ9i"
      },
      "source": [
        "# Helper Functions\n",
        "\n",
        "def rot_nib(bits):\n",
        "  return bits[int(len(bits)/2):]+bits[0:int(len(bits)/2)] #swap the right nibble and the left nibble hehe\n",
        "\n",
        "def xor(operand1, operand2):\n",
        "  return [ bit1^bit2 for bit1, bit2 in zip(operand1, operand2) ]\n",
        "\n",
        "def int2nibble(val):\n",
        "  result = bin(val)[2:] #Get byte format in string and remove '0b'\n",
        "  result = '0'*(4-len(result)) + result #Padding (4 bit)\n",
        "  result = [int(x) for x in result] #Convert result string to an array of 0s and 1s\n",
        "  return result\n",
        "\n",
        "\n",
        "#s-box has hexadecimal values (did not include the byte values for easier readability)\n",
        "\n",
        "s_box_enc = [ [0x9,0x4,0xa,0xb],\n",
        "              [0xd,0x1,0x8,0x5],\n",
        "              [0x6,0x2,0x0,0x3],\n",
        "              [0xc,0xe,0xf,0x7] ]\n",
        "\n",
        "s_box_dec = [ [0xa,0x5,0x9,0xb],\n",
        "              [0x1,0x7,0x8,0xf],\n",
        "              [0x6,0x0,0x2,0x3],\n",
        "              [0xc,0x4,0xd,0xe] ]\n",
        "\n",
        "def sub_nib(bits, s_box):\n",
        "  result = []\n",
        "  assert len(bits)%4==0 #input bits should form complete nibbles hehe\n",
        "  for i in range(0,len(bits),4):  #For each nibble\n",
        "    index_i = 2*bits[i]+bits[i+1] #first two bits are the row index of the s-box\n",
        "    index_j = 2*bits[i+2]+bits[i+3] #last two bits are the column index of the s-box\n",
        "    val = s_box[index_i][index_j] #get the value from the s-box\n",
        "    nibble_bytearray = int2nibble(val)  #get the corresponding nibble\n",
        "    result = result + nibble_bytearray  #append the nibble to the result\n",
        "  return result\n",
        "\n",
        "\n",
        "\n",
        "# Helper function for galois_multiplication\n",
        "def nibble2container(nibble):\n",
        "  container = {}\n",
        "  nibble.reverse()\n",
        "  for index, degree in enumerate(nibble):\n",
        "    if degree == 1:\n",
        "      container[index] = degree\n",
        "  nibble.reverse()\n",
        "  return container\n",
        "\n",
        "# Helper function for galois_multiplication\n",
        "def container2nibble(container):\n",
        "  nibble = [0]*4\n",
        "  for index in container.keys():\n",
        "    nibble[index] = container[index]\n",
        "  nibble.reverse()\n",
        "  return nibble\n",
        "\n",
        "def galois_multiplication(operator1, operator2):\n",
        "  from galois_field.GF import GF, FFElement\n",
        "  from galois_field.fast_polynom import FastPolynom\n",
        "  irr_poly = FastPolynom({0: 1, 1: 1, 2:0, 4: 1}) # Irreversible Polynomial x^4 + x + 1\n",
        "  ff = GF(2, 4, irr_poly) # GF(2^4)\n",
        "  e1 = FFElement(ff, FastPolynom(nibble2container(operator1)))\n",
        "  e2 = FFElement(ff, FastPolynom(nibble2container(operator2)))\n",
        "  e_res = e1 * e2\n",
        "  result = container2nibble(e_res.container.container)\n",
        "  return result\n",
        "\n",
        "\n",
        "def mix_col(bits):\n",
        "  '''\n",
        "  Matrix Multiplication : S' = S * Me\n",
        "\n",
        "  S = [ S00   S01\n",
        "        S10   S11]\n",
        "\n",
        "  S = S00 S10 S01 S11\n",
        "\n",
        "  S' = [S00'  S01'\n",
        "        S10'  S11']\n",
        "\n",
        "  Me = [1   4\n",
        "        4   1]\n",
        "  '''\n",
        "  FOUR = [0,1,0,0]\n",
        "  s00 = bits[0:4]\n",
        "  s10 = bits[4:8]\n",
        "  s01 = bits[8:12]\n",
        "  s11 = bits[12:]\n",
        "  s00_ = xor(\n",
        "      s00,\n",
        "      galois_multiplication(FOUR, s10)\n",
        "    )\n",
        "  s10_ = xor(\n",
        "      galois_multiplication(FOUR, s00),\n",
        "      s10\n",
        "    )\n",
        "  s01_ = xor(\n",
        "      s01,\n",
        "      galois_multiplication(FOUR, s11)\n",
        "    )\n",
        "  s11_ = xor(\n",
        "      galois_multiplication(FOUR, s01),\n",
        "      s11\n",
        "    )\n",
        "  result = s00_ + s10_ + s01_ + s11_\n",
        "  return result\n",
        "\n",
        "# Swap the second and the fourth nibble\n",
        "def shift_row(bits):\n",
        "  return bits[0:4] + bits[12:] + bits[8:12] + bits[4:8]\n",
        "\n",
        "\n",
        "def mix_col_inv(bits):\n",
        "  '''\n",
        "  Matrix Multiplication : S' = S * Me\n",
        "\n",
        "  S = [ S00   S01\n",
        "        S10   S11]\n",
        "\n",
        "  S = S00 S10 S01 S11\n",
        "\n",
        "  S' = [S00'  S01'\n",
        "        S10'  S11']\n",
        "\n",
        "  Me = [9   2\n",
        "        2   9]\n",
        "  '''\n",
        "  NINE = [1,0,0,1]\n",
        "  TWO = [0,0,1,0]\n",
        "  s00 = bits[0:4]\n",
        "  s10 = bits[4:8]\n",
        "  s01 = bits[8:12]\n",
        "  s11 = bits[12:]\n",
        "  s00_ = xor(\n",
        "      galois_multiplication(NINE, s00),\n",
        "      galois_multiplication(TWO, s10)\n",
        "    )\n",
        "  s10_ = xor(\n",
        "      galois_multiplication(TWO, s00),\n",
        "      galois_multiplication(NINE, s10)\n",
        "    )\n",
        "  s01_ = xor(\n",
        "      galois_multiplication(NINE, s01),\n",
        "      galois_multiplication(TWO, s11)\n",
        "    )\n",
        "  s11_ = xor(\n",
        "      galois_multiplication(TWO, s01),\n",
        "      galois_multiplication(NINE, s11)\n",
        "    )\n",
        "  result = s00_ + s10_ + s01_ + s11_\n",
        "  return result\n"
      ],
      "execution_count": null,
      "outputs": []
    },
    {
      "cell_type": "code",
      "metadata": {
        "id": "GGIGLPpLC-OI"
      },
      "source": [
        "# class SAES\n",
        "\n",
        "class SAES:\n",
        "\n",
        "\n",
        "  def key_generation(self, key):\n",
        "\n",
        "    w0 = key[0:8]\n",
        "    w1 = key[8:]\n",
        "    \n",
        "    RCON1 = [1,0,0,0,0,0,0,0]  #round constant 1\n",
        "    w2 = xor(xor(w0,RCON1),sub_nib(rot_nib(w1),s_box_enc))\n",
        "    w3 = xor(w1,w2)\n",
        "    \n",
        "    RCON2 = [0,0,1,1,0,0,0,0]  #round constant 2\n",
        "    w4 = xor(xor(w2,RCON2),sub_nib(rot_nib(w3),s_box_enc))\n",
        "    w5 = xor(w3,w4)\n",
        "    \n",
        "    key0 = key\n",
        "    key1 = w2+w3\n",
        "    key2 = w4+w5\n",
        "    \n",
        "    return key0, key1, key2\n",
        "\n",
        "\n",
        "  def encryption(self, plain_text, key):\n",
        "\n",
        "    #key generation\n",
        "    key0,key1,key2 = self.key_generation(key)\n",
        "\n",
        "    #Round 0 - add round key\n",
        "    r0 = xor(plain_text, key0)\n",
        "    \n",
        "    #Round 1\n",
        "    r1 = sub_nib(r0,s_box_enc)  #nibble substitution\n",
        "    r1 = shift_row(r1) #shift row - swap 2nd nibble and 4th nibble\n",
        "    r1 = mix_col(r1) #mix columns\n",
        "    r1 = xor(r1, key1) #add round key\n",
        "\n",
        "    #Round 2\n",
        "    r2 = sub_nib(r1,s_box_enc)  #nibble substitution\n",
        "    r2 = shift_row(r2) #shift row - swap 2nd nibble and 4th nibble\n",
        "    r2 = xor(r2, key2) #add round key\n",
        "    \n",
        "    return r2 #resultant cipher text\n",
        "\n",
        "\n",
        "  def decryption(self, cipher_text, key):\n",
        "\n",
        "    #key generation\n",
        "    key0,key1,key2 = self.key_generation(key)\n",
        "\n",
        "    #Round 0 - add round key\n",
        "    r2 = xor(cipher_text, key2)\n",
        "    \n",
        "    #Round 1\n",
        "    r2 = shift_row(r2) #inverse shift row - swap 2nd nibble and 4th nibble\n",
        "    r2 = sub_nib(r2,s_box_dec)  #inverse nibble substitution\n",
        "    r1 = xor(r2, key1) #add round key\n",
        "\n",
        "    #Round 2\n",
        "    r1 = mix_col_inv(r1) #mix columns\n",
        "    r1 = shift_row(r1) #inverse shift row - swap 2nd nibble and 4th nibble\n",
        "    r1 = sub_nib(r1,s_box_dec)  #inverse nibble substitution\n",
        "    r0 = xor(r1, key0) #add round key\n",
        "\n",
        "    return r0  #resultant decrypted text\n"
      ],
      "execution_count": null,
      "outputs": []
    },
    {
      "cell_type": "code",
      "metadata": {
        "colab": {
          "base_uri": "https://localhost:8080/"
        },
        "id": "FUwYss6OEL55",
        "outputId": "de32571d-e542-4a1c-e817-7d1a271c4937"
      },
      "source": [
        "# Sample Execution Byte Level\n",
        "\n",
        "saes = SAES()\n",
        "plain_text = [1,1,0,1,0,1,1,1,0,0,1,0,1,0,0,0]\n",
        "key = [0,1,0,0,1,0,1,0,1,1,1,1,0,1,0,1]\n",
        "cipher_text = saes.encryption(plain_text, key)\n",
        "decrypted_text = saes.decryption(cipher_text, key)\n",
        "print('Plain Text = ', plain_text)\n",
        "print('Cipher Text = ', cipher_text)\n",
        "print('Decrypted Text = ', decrypted_text)\n",
        "print('isDecrypted = ',plain_text==decrypted_text)"
      ],
      "execution_count": null,
      "outputs": [
        {
          "output_type": "stream",
          "text": [
            "Plain Text =  [1, 1, 0, 1, 0, 1, 1, 1, 0, 0, 1, 0, 1, 0, 0, 0]\n",
            "Cipher Text =  [0, 0, 1, 0, 0, 1, 0, 0, 1, 1, 1, 0, 1, 1, 0, 0]\n",
            "Decrypted Text =  [1, 1, 0, 1, 0, 1, 1, 1, 0, 0, 1, 0, 1, 0, 0, 0]\n",
            "isDecrypted =  True\n"
          ],
          "name": "stdout"
        }
      ]
    },
    {
      "cell_type": "code",
      "metadata": {
        "colab": {
          "base_uri": "https://localhost:8080/"
        },
        "id": "tLbIHfd08lBj",
        "outputId": "a75c16b4-4241-4456-c63e-77280da28bd4"
      },
      "source": [
        "# Encrypt a string of text\n",
        "\n",
        "def encrypt_text(plain_text, key_bytearray=[0,1,0,0,1,0,1,0,1,1,1,1,0,1,0,1]):\n",
        "\n",
        "  index = 0\n",
        "  byte1 = ''\n",
        "  byte2 = ''\n",
        "\n",
        "  saes = SAES()\n",
        "  encrypted_text = ''\n",
        "\n",
        "  # Pad with ascii 0\n",
        "  if len(plain_text)%2 == 1:\n",
        "    plain_text += chr(0)\n",
        "\n",
        "  # Select two characters at a time\n",
        "  for byte in bytearray(plain_text, \"utf8\"):\n",
        "    \n",
        "    if index%2 == 0:\n",
        "      byte1 = byte  \n",
        "    else:\n",
        "      byte2 = byte\n",
        "\n",
        "      # byte to bytestring\n",
        "      binrep1, binrep2 = bin(byte1), bin(byte2)\n",
        "      \n",
        "      # Remove '0b' from bytestring\n",
        "      binrep1, binrep2 = binrep1[2:], binrep2[2:]\n",
        "      \n",
        "      # Padding with 0s\n",
        "      binrep1, binrep2 = '0'*(8-len(binrep1))+binrep1, '0'*(8-len(binrep2))+binrep2\n",
        "      \n",
        "      # Combine the binary representations\n",
        "      binary_representation = binrep1 + binrep2\n",
        "\n",
        "      # Encrypt using Simplified AES\n",
        "      cipher_text_bytearray = saes.encryption([int(x) for x in list(binary_representation)], key_bytearray)\n",
        "\n",
        "      # Convert bytearray to character\n",
        "      binary_representation_cipher = ''\n",
        "      for digit in cipher_text_bytearray:\n",
        "        binary_representation_cipher += str(digit)\n",
        "\n",
        "      # Convert encoded text to utf-8\n",
        "      encrypted_text = encrypted_text + chr(int(binary_representation_cipher[0:8],2)) + chr(int(binary_representation_cipher[8:],2))\n",
        "\n",
        "    index += 1\n",
        "\n",
        "  return encrypted_text\n",
        "\n",
        "\n",
        "plain_text = \"Hi Google Colab\"\n",
        "cipher_text = encrypt_text(plain_text)\n",
        "print('Plain Text = ', plain_text)\n",
        "print('Cipher Text = ', cipher_text)"
      ],
      "execution_count": null,
      "outputs": [
        {
          "output_type": "stream",
          "text": [
            "Plain Text =  Hi Google Colab\n",
            "Cipher Text =  ÇTºëÓtøK=\u0015]È\u0001 3U\n"
          ],
          "name": "stdout"
        }
      ]
    },
    {
      "cell_type": "code",
      "metadata": {
        "colab": {
          "base_uri": "https://localhost:8080/"
        },
        "id": "aXJUg20OLdXT",
        "outputId": "d08a3991-3385-4ddc-b300-4052e2c183e0"
      },
      "source": [
        "# Decrypt a string of text\n",
        "\n",
        "def decrypt_text(cipher_text, key_bytearray=[0,1,0,0,1,0,1,0,1,1,1,1,0,1,0,1]):\n",
        "\n",
        "  saes = SAES()\n",
        "  decrypted_text = ''\n",
        "\n",
        "  # Take two characters at a time\n",
        "  for character1, character2 in zip(cipher_text[0::2], cipher_text[1::2]):\n",
        "\n",
        "    # Convert from character to ascii to bytestring\n",
        "    # Remove '0b' from bytestring\n",
        "    binrep1, binrep2 = bin(ord(character1))[2:], bin(ord(character2))[2:]\n",
        "    \n",
        "    # Pad with zeroes to create 8-bit array of 1s and 0s\n",
        "    binrep1, binrep2 = '0'*(8-len(binrep1))+binrep1, '0'*(8-len(binrep2))+binrep2\n",
        "    \n",
        "    # Join the binary representation of two characters\n",
        "    binary_representation = binrep1 + binrep2\n",
        "\n",
        "    # Decrypt using Simplified AES\n",
        "    decrypted_text_bytearray = saes.decryption([int(x) for x in list(binary_representation)], key_bytearray)\n",
        "    \n",
        "    # Convert array to bytestring\n",
        "    binary_representation_decrypted = ''\n",
        "    for digit in decrypted_text_bytearray:\n",
        "      binary_representation_decrypted += str(digit)\n",
        "    \n",
        "    # Convert array to int to char\n",
        "    # Append the two characters to decrypted_text\n",
        "    decrypted_text = decrypted_text + chr(int(binary_representation_decrypted[0:8],2)) + chr(int(binary_representation_decrypted[8:],2))\n",
        "\n",
        "  # If last character is ascii value 0, delete it\n",
        "  if decrypted_text[-1] == chr(0):\n",
        "    decrypted_text = decrypted_text[0:-1]\n",
        "\n",
        "  return decrypted_text\n",
        "\n",
        "\n",
        "decrypted_text = decrypt_text(cipher_text)\n",
        "print('Cipher Text = ', cipher_text)\n",
        "print('Decrypted Text = ', decrypted_text)"
      ],
      "execution_count": null,
      "outputs": [
        {
          "output_type": "stream",
          "text": [
            "Cipher Text =  ÇTºëÓtøK=\u0015]È\u0001 3U\n",
            "Decrypted Text =  Hi Google Colab\n"
          ],
          "name": "stdout"
        }
      ]
    },
    {
      "cell_type": "code",
      "metadata": {
        "colab": {
          "base_uri": "https://localhost:8080/"
        },
        "id": "739Y2lMewAE8",
        "outputId": "38f73534-46ba-4d0f-8dde-9748dc61a738"
      },
      "source": [
        "print('Plain Text = ', plain_text)\n",
        "print('Cipher Text = ', cipher_text)\n",
        "print('Decrypted Text = ', decrypted_text)\n",
        "print('isDecrypted = ',plain_text==decrypted_text)"
      ],
      "execution_count": null,
      "outputs": [
        {
          "output_type": "stream",
          "text": [
            "Plain Text =  Hi Google Colab\n",
            "Cipher Text =  ÇTºëÓtøK=\u0015]È\u0001 3U\n",
            "Decrypted Text =  Hi Google Colab\n",
            "isDecrypted =  True\n"
          ],
          "name": "stdout"
        }
      ]
    },
    {
      "cell_type": "code",
      "metadata": {
        "id": "oiZPw73240yk",
        "colab": {
          "base_uri": "https://localhost:8080/"
        },
        "outputId": "3a0342b3-3edb-4ea6-c013-83ff326f10c3"
      },
      "source": [
        "plain_text = \"This is second assignment of ICS\"\n",
        "cipher_text = encrypt_text(plain_text)\n",
        "decrypted_text = decrypt_text(cipher_text)\n",
        "print('Plain Text = ', plain_text)\n",
        "print('Cipher Text = ', cipher_text)\n",
        "print('Decrypted Text = ', decrypted_text)\n",
        "print('isDecrypted = ',plain_text==decrypted_text)"
      ],
      "execution_count": null,
      "outputs": [
        {
          "output_type": "stream",
          "text": [
            "Plain Text =  This is second assignment of ICS\n",
            "Cipher Text =  PÁ\\\u001e:\"w]ÀÝÄYê^7\u0013h¤­Iî²Ö'·cy\u001aê'ª\n",
            "Decrypted Text =  This is second assignment of ICS\n",
            "isDecrypted =  True\n"
          ],
          "name": "stdout"
        }
      ]
    }
  ]
}