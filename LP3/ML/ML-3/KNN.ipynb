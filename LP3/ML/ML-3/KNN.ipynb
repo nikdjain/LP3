{
  "nbformat": 4,
  "nbformat_minor": 0,
  "metadata": {
    "colab": {
      "name": "KNN.ipynb",
      "provenance": [],
      "collapsed_sections": [
        "KH2IQ4UQ-tJP",
        "KhMIwdW7E9VF"
      ]
    },
    "kernelspec": {
      "name": "python3",
      "display_name": "Python 3"
    }
  },
  "cells": [
    {
      "cell_type": "code",
      "metadata": {
        "id": "oMVawFGFNcap",
        "colab": {
          "base_uri": "https://localhost:8080/"
        },
        "outputId": "02d45635-9b8b-48d2-c5c4-e1da36ff6804"
      },
      "source": [
        "from math import sqrt\n",
        "\n",
        "def knn_classification(dataset,queries,k,distance_type='euclidean'):\n",
        "\n",
        "  print('knn_classification')\n",
        "\n",
        "  predictions = []\n",
        "\n",
        "  # For each query\n",
        "  for query in queries:\n",
        "\n",
        "    collection = []\n",
        "\n",
        "    # For each instance in dataset\n",
        "    for features, target in dataset:\n",
        "\n",
        "      # Calculate Distance\n",
        "      distance = 0\n",
        "      if distance_type == 'euclidean':\n",
        "        for instance_feature, query_feature in zip(features,query):\n",
        "          distance = distance + ((instance_feature-query_feature)**2)\n",
        "        distance = sqrt(distance)\n",
        "      elif distance_type == 'manhattan':\n",
        "        for instance_feature, query_feature in zip(features,query):\n",
        "          distance = distance + abs(instance_feature-query_feature)\n",
        "\n",
        "      '''\n",
        "      # Minkowski Distance\n",
        "      distance = 0\n",
        "      p = 2\n",
        "      if distance == 'manhattan':\n",
        "        p=1\n",
        "      elif distance == 'euclidean':\n",
        "        p=2\n",
        "      for instance_feature, query_feature in zip(features,query):\n",
        "        distance = distance + ((instance_feature-query_feature)**p)\n",
        "      distance = distance**(1/p)\n",
        "      '''\n",
        "\n",
        "      # Add Target and Distance to Collection\n",
        "      collection.append([target,distance])\n",
        "\n",
        "    # Sort the collection in ascending order by distance\n",
        "    collection.sort(key = lambda collection: collection[1])\n",
        "\n",
        "    # Get the first k entries from the sorted collection\n",
        "    k_entries = collection[0:k]\n",
        "\n",
        "    # Get the target values of the k_entries\n",
        "    k_labels = [target for target,distance in k_entries]\n",
        "\n",
        "    # Get count of each target\n",
        "    target2count = {}\n",
        "    for target,distance in k_entries:\n",
        "      if target in target2count.keys():\n",
        "        target2count[target] = target2count[target] + 1\n",
        "      else:\n",
        "        target2count[target] = 1\n",
        "\n",
        "    # Prediction is the mode of k_labels i.e target of highest count\n",
        "    prediction = -1\n",
        "    max_count = -1\n",
        "    for target in target2count:\n",
        "      if target2count[target] > max_count:\n",
        "        prediction = target\n",
        "        max_count = target2count[target]\n",
        "\n",
        "    predictions.append(prediction)\n",
        "\n",
        "  return predictions\n",
        "\n",
        "#############################################################\n",
        "\n",
        "dataset = [\n",
        "  ((4,2),1),\n",
        "  ((2,4),1),\n",
        "  ((6,4),1),\n",
        "  ((4,6),1),\n",
        "  ((6,2),0),\n",
        "  ((4,4),0)\n",
        "]\n",
        "\n",
        "queries = [\n",
        "  (6,6)\n",
        "]\n",
        "\n",
        "k = 3\n",
        "\n",
        "#############################################################\n",
        "\n",
        "predictions = knn_classification(k=3,dataset=dataset,queries=queries)\n",
        "for query, prediction in zip(queries, predictions):\n",
        "  print('Query = {query}'.format(query=query))\n",
        "  print('Prediction = {prediction}'.format(prediction=prediction))\n",
        "  print()"
      ],
      "execution_count": null,
      "outputs": [
        {
          "output_type": "stream",
          "text": [
            "knn_classification\n",
            "Query = (6, 6)\n",
            "Prediction = 1\n",
            "\n"
          ],
          "name": "stdout"
        }
      ]
    },
    {
      "cell_type": "code",
      "metadata": {
        "id": "-LnBpGQ-RFi1",
        "colab": {
          "base_uri": "https://localhost:8080/"
        },
        "outputId": "539ff1f6-dcb1-4658-81f8-d2a9afd50c2c"
      },
      "source": [
        "from math import sqrt\n",
        "\n",
        "def distance_weighted_knn_classification(dataset,queries,k,distance_type='euclidean'):\n",
        "\n",
        "  print('distance_weighted_knn_classification')\n",
        "\n",
        "  predictions = []\n",
        "\n",
        "  # For each query\n",
        "  for query in queries:\n",
        "\n",
        "    collection = []\n",
        "\n",
        "    # For each instance in dataset\n",
        "    for features, target in dataset:\n",
        "\n",
        "      # Calculate Distance\n",
        "      distance = 0\n",
        "      if distance_type == 'euclidean':\n",
        "        for instance_feature, query_feature in zip(features,query):\n",
        "          distance = distance + ((instance_feature-query_feature)**2)\n",
        "        distance = sqrt(distance)\n",
        "      elif distance_type == 'manhattan':\n",
        "        for instance_feature, query_feature in zip(features,query):\n",
        "          distance = distance + abs(instance_feature-query_feature)\n",
        "\n",
        "      # Add Target and Distance to Collection\n",
        "      collection.append([target,distance])\n",
        "\n",
        "    # Sort the collection in ascending order by distance\n",
        "    collection.sort(key = lambda collection: collection[1])\n",
        "\n",
        "    # Get the first k entries from the sorted collection\n",
        "    k_entries = collection[0:k]\n",
        "\n",
        "    # compute weighted Sum of each target\n",
        "    target2weight = {}\n",
        "    c = 0.0001\n",
        "    for target,distance in k_entries:\n",
        "      weight = 1/(distance + c)\n",
        "      if target in target2weight.keys():\n",
        "        target2weight[target] = target2weight[target] + weight\n",
        "      else:\n",
        "        target2weight[target] = weight\n",
        "\n",
        "    # Prediction is the target value with maximum weighted sum\n",
        "    prediction = -1\n",
        "    max_weighted_sum = -1\n",
        "    for target in target2weight:\n",
        "      if target2weight[target] > max_weighted_sum:\n",
        "        prediction = target\n",
        "        max_weighted_sum = target2weight[target]\n",
        "\n",
        "    predictions.append(prediction)\n",
        "\n",
        "  return predictions\n",
        "\n",
        "#############################################################\n",
        "\n",
        "dataset = [\n",
        "  ((4,2),1),\n",
        "  ((2,4),1),\n",
        "  ((6,4),1),\n",
        "  ((4,6),1),\n",
        "  ((6,2),0),\n",
        "  ((4,4),0)\n",
        "]\n",
        "\n",
        "queries = [\n",
        "  (6,6)\n",
        "]\n",
        "\n",
        "k = 3\n",
        "\n",
        "#############################################################\n",
        "\n",
        "predictions = distance_weighted_knn_classification(k=3,dataset=dataset,queries=queries)\n",
        "for query, prediction in zip(queries, predictions):\n",
        "  print('Query = {query}'.format(query=query))\n",
        "  print('Prediction = {prediction}'.format(prediction=prediction))\n",
        "  print()"
      ],
      "execution_count": null,
      "outputs": [
        {
          "output_type": "stream",
          "text": [
            "distance_weighted_knn_classification\n",
            "Query = (6, 6)\n",
            "Prediction = 1\n",
            "\n"
          ],
          "name": "stdout"
        }
      ]
    },
    {
      "cell_type": "code",
      "metadata": {
        "id": "fSniB-KGO9aJ",
        "colab": {
          "base_uri": "https://localhost:8080/"
        },
        "outputId": "93c5ee74-aef1-4d83-e2b6-35cfd47e6581"
      },
      "source": [
        "#############################################################\n",
        "\n",
        "dataset = [\n",
        "  ((4,2),1),\n",
        "  ((2,4),1),\n",
        "  ((6,4),1),\n",
        "  ((4,6),1),\n",
        "  ((6,2),0),\n",
        "  ((4,4),0)\n",
        "]\n",
        "\n",
        "queries = [\n",
        "  (6,6)\n",
        "]\n",
        "\n",
        "k = 3\n",
        "\n",
        "#############################################################\n",
        "\n",
        "predictions = knn_classification(k=3,dataset=dataset,queries=queries)\n",
        "for query, prediction in zip(queries, predictions):\n",
        "  print('Query = {query}'.format(query=query))\n",
        "  print('Prediction = {prediction}'.format(prediction=prediction))\n",
        "  print()"
      ],
      "execution_count": null,
      "outputs": [
        {
          "output_type": "stream",
          "text": [
            "knn_classification\n",
            "Query = (6, 6)\n",
            "Prediction = 1\n",
            "\n"
          ],
          "name": "stdout"
        }
      ]
    },
    {
      "cell_type": "code",
      "metadata": {
        "colab": {
          "base_uri": "https://localhost:8080/"
        },
        "id": "2FMO2t8gPIVC",
        "outputId": "c0a095b7-6e2a-40e9-e941-1210a615155b"
      },
      "source": [
        "predictions = knn_classification(k=3,dataset=dataset,queries=queries)\n",
        "for query, prediction in zip(queries, predictions):\n",
        "  print('Query = {query}'.format(query=query))\n",
        "  print('Prediction = {prediction}'.format(prediction=prediction))\n",
        "  print()"
      ],
      "execution_count": null,
      "outputs": [
        {
          "output_type": "stream",
          "text": [
            "knn_classification\n",
            "Query = (6, 6)\n",
            "Prediction = 1\n",
            "\n"
          ],
          "name": "stdout"
        }
      ]
    },
    {
      "cell_type": "code",
      "metadata": {
        "colab": {
          "base_uri": "https://localhost:8080/"
        },
        "id": "1CSSLg6YU4NR",
        "outputId": "028675a7-3ba8-4591-8381-c4340bd10aef"
      },
      "source": [
        "predictions = distance_weighted_knn_classification(k=3,dataset=dataset,queries=queries)\n",
        "for query, prediction in zip(queries, predictions):\n",
        "  print('Query = {query}'.format(query=query))\n",
        "  print('Prediction = {prediction}'.format(prediction=prediction))\n",
        "  print()"
      ],
      "execution_count": null,
      "outputs": [
        {
          "output_type": "stream",
          "text": [
            "distance_weighted_knn_classification\n",
            "Query = (6, 6)\n",
            "Prediction = 1\n",
            "\n"
          ],
          "name": "stdout"
        }
      ]
    }
  ]
}