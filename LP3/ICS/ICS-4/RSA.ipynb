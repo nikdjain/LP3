{
  "nbformat": 4,
  "nbformat_minor": 0,
  "metadata": {
    "colab": {
      "name": "RSA.ipynb",
      "provenance": [],
      "collapsed_sections": []
    },
    "kernelspec": {
      "name": "python3",
      "display_name": "Python 3"
    }
  },
  "cells": [
    {
      "cell_type": "code",
      "metadata": {
        "id": "JdZePPQ9cV-J"
      },
      "source": [
        "'''\n",
        "Public Key is (e,n)\n",
        "Private Key is (d,n)\n",
        "'''\n",
        "def generate_keys():\n",
        "\n",
        "  from random import randint\n",
        "  from math import gcd\n",
        "  from sympy import mod_inverse\n",
        "\n",
        "  # Generate Two unequal Large Primes of comparable size\n",
        "  p, q = 877, 751\n",
        "  #p, q = 6971, 6299\n",
        "\n",
        "  # For large p and q, n will take centuries to factorize\n",
        "  n = p*q\n",
        "\n",
        "  # phi function\n",
        "  fi_n = (p-1)*(q-1)\n",
        "  \n",
        "  # e and fi_n are relatively prime if their gcd is 1\n",
        "  while True:\n",
        "    e = randint(1, fi_n)\n",
        "    if gcd(fi_n, e) == 1:\n",
        "      break\n",
        "  \n",
        "  # inverse modulo exists iff e and fi_n are relatively prime\n",
        "  # Modular Inverse\n",
        "  d = mod_inverse(e, fi_n)\n",
        "\n",
        "  return (e,n), (d,n)\n",
        "\n",
        "\n",
        "public_key, private_key = generate_keys()"
      ],
      "execution_count": null,
      "outputs": []
    },
    {
      "cell_type": "code",
      "metadata": {
        "colab": {
          "base_uri": "https://localhost:8080/"
        },
        "id": "oGqpiqg5674G",
        "outputId": "0e3dcaa2-3fb0-4ce0-c370-fae8d9f19085"
      },
      "source": [
        "def encryption(m, public_key):\n",
        "  e, n = public_key\n",
        "  c = m**e % n\n",
        "  return c\n",
        "\n",
        "c = encryption(ord('A'), public_key)\n",
        "c"
      ],
      "execution_count": null,
      "outputs": [
        {
          "output_type": "execute_result",
          "data": {
            "text/plain": [
              "446298"
            ]
          },
          "metadata": {
            "tags": []
          },
          "execution_count": 2
        }
      ]
    },
    {
      "cell_type": "code",
      "metadata": {
        "colab": {
          "base_uri": "https://localhost:8080/",
          "height": 35
        },
        "id": "rGuuI9lR8Uhq",
        "outputId": "8894063a-b15a-427f-a662-f594949ba76f"
      },
      "source": [
        "def decryption(c, private_key):\n",
        "  d, n = private_key\n",
        "  p = c**d % n\n",
        "  return p\n",
        "\n",
        "p = decryption(c, private_key)\n",
        "chr(p)"
      ],
      "execution_count": null,
      "outputs": [
        {
          "output_type": "execute_result",
          "data": {
            "application/vnd.google.colaboratory.intrinsic+json": {
              "type": "string"
            },
            "text/plain": [
              "'A'"
            ]
          },
          "metadata": {
            "tags": []
          },
          "execution_count": 3
        }
      ]
    },
    {
      "cell_type": "code",
      "metadata": {
        "colab": {
          "base_uri": "https://localhost:8080/",
          "height": 35
        },
        "id": "9PLqIvaBhGKY",
        "outputId": "bf37d299-91a1-4582-8ace-74edc6f60483"
      },
      "source": [
        "def encrypt_text(plain_text, public_key):\n",
        "  cipher_text = ''\n",
        "  for character in plain_text:\n",
        "    cipher_text += chr(encryption(ord(character), public_key))\n",
        "  return cipher_text\n",
        "\n",
        "cipher_text = encrypt_text('hi colaboratory', public_key)\n",
        "cipher_text"
      ],
      "execution_count": null,
      "outputs": [
        {
          "output_type": "execute_result",
          "data": {
            "application/vnd.google.colaboratory.intrinsic+json": {
              "type": "string"
            },
            "text/plain": [
              "'\\U00043930\\U0003ddec⥆\\U000785b1\\ue293\\U0006569a\\U0003d6a4\\U00078cb6\\ue293ۑ\\U0003d6a4\\U00097d00\\ue293ۑ篸'"
            ]
          },
          "metadata": {
            "tags": []
          },
          "execution_count": 11
        }
      ]
    },
    {
      "cell_type": "code",
      "metadata": {
        "colab": {
          "base_uri": "https://localhost:8080/",
          "height": 35
        },
        "id": "UjACtkZOhwuf",
        "outputId": "6b8b7f80-75d6-4fe5-bb28-e5dff368ee66"
      },
      "source": [
        "def decrypt_text(cipher_text, private_key):\n",
        "  decrypted_text = ''\n",
        "  for character in cipher_text:\n",
        "    decrypted_text += chr(encryption(ord(character), private_key))\n",
        "  return decrypted_text\n",
        "\n",
        "decrypted_text = decrypt_text(cipher_text, private_key)\n",
        "decrypted_text"
      ],
      "execution_count": null,
      "outputs": [
        {
          "output_type": "execute_result",
          "data": {
            "application/vnd.google.colaboratory.intrinsic+json": {
              "type": "string"
            },
            "text/plain": [
              "'hi colaboratory'"
            ]
          },
          "metadata": {
            "tags": []
          },
          "execution_count": 12
        }
      ]
    },
    {
      "cell_type": "markdown",
      "metadata": {
        "id": "Ha1cguA2Iunt"
      },
      "source": [
        "## Test Cases"
      ]
    },
    {
      "cell_type": "code",
      "metadata": {
        "colab": {
          "base_uri": "https://localhost:8080/"
        },
        "id": "y9N2mLr4H_93",
        "outputId": "50e8bc9f-7472-467a-dcfd-0b870ef7304c"
      },
      "source": [
        "plain_text = 'Hi Google Colab'\n",
        "cipher_text = encrypt_text(plain_text, public_key)\n",
        "decrypted_text = decrypt_text(cipher_text, private_key)\n",
        "\n",
        "print('Plain Text = ', plain_text)\n",
        "print('Decryption Text = ', decrypted_text)"
      ],
      "execution_count": null,
      "outputs": [
        {
          "output_type": "stream",
          "text": [
            "Plain Text =  Hi Google Colab\n",
            "Decryption Text =  Hi Google Colab\n"
          ],
          "name": "stdout"
        }
      ]
    },
    {
      "cell_type": "code",
      "metadata": {
        "colab": {
          "base_uri": "https://localhost:8080/"
        },
        "id": "kCWj76c-IQqo",
        "outputId": "8601ce8c-919c-4f3c-8f8f-0082b390ab83"
      },
      "source": [
        "plain_text = 'This is fourth assignment of ICS'\n",
        "cipher_text = encrypt_text(plain_text, public_key)\n",
        "decrypted_text = decrypt_text(cipher_text, private_key)\n",
        "\n",
        "print('Plain Text = ', plain_text)\n",
        "print('Decryption Text = ', decrypted_text)"
      ],
      "execution_count": null,
      "outputs": [
        {
          "output_type": "stream",
          "text": [
            "Plain Text =  This is fourth assignment of ICS\n",
            "Decryption Text =  This is fourth assignment of ICS\n"
          ],
          "name": "stdout"
        }
      ]
    },
    {
      "cell_type": "code",
      "metadata": {
        "colab": {
          "base_uri": "https://localhost:8080/"
        },
        "id": "SQKRJBNWIWIt",
        "outputId": "fb1f34ae-18e2-4ece-f067-c809ce0b07c2"
      },
      "source": [
        "plain_text = ''\n",
        "cipher_text = encrypt_text(plain_text, public_key)\n",
        "decrypted_text = decrypt_text(cipher_text, private_key)\n",
        "\n",
        "print('Plain Text = ', plain_text)\n",
        "print('Cipher Text = ', cipher_text)\n",
        "print('Decryption Text = ', decrypted_text)"
      ],
      "execution_count": null,
      "outputs": [
        {
          "output_type": "stream",
          "text": [
            "Plain Text =  \n",
            "Cipher Text =  \n",
            "Decryption Text =  \n"
          ],
          "name": "stdout"
        }
      ]
    }
  ]
}