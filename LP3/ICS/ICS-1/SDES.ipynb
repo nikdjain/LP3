{
  "nbformat": 4,
  "nbformat_minor": 0,
  "metadata": {
    "colab": {
      "name": "SDES.ipynb",
      "provenance": [],
      "collapsed_sections": [],
      "toc_visible": true
    },
    "kernelspec": {
      "name": "python3",
      "display_name": "Python 3"
    },
    "accelerator": "GPU"
  },
  "cells": [
    {
      "cell_type": "code",
      "metadata": {
        "id": "hXJb27N3Dbal"
      },
      "source": [
        "# Helper Functions\n",
        "\n",
        "def _permutation_block(permutation_matrix, bits):\n",
        "  return [ bits[old_index] for old_index in permutation_matrix ]\n",
        "\n",
        "def _left_shift(bits, count=1):\n",
        "  return bits[0+count:] + bits[0:0+count]\n",
        "\n",
        "def _xor(operand1, operand2):\n",
        "  return [ bit1^bit2 for bit1, bit2 in zip(operand1, operand2) ]\n",
        "\n",
        "def _p10(bits):\n",
        "  return _permutation_block([2, 4, 1, 6, 3, 9, 0, 8, 7, 5], bits)\n",
        "\n",
        "def _p8(bits):\n",
        "  return _permutation_block([5, 2, 6, 3, 7, 4, 9, 8], bits)\n",
        "\n",
        "def _shift(bits, count=1):\n",
        "  left = bits[0:int(len(bits)/2)]\n",
        "  right = bits[int(len(bits)/2):]\n",
        "  result = _left_shift(left,1) + _left_shift(right,1)\n",
        "  return result\n",
        "\n",
        "def _fk(subkey, bits):\n",
        "  \n",
        "  left = bits[0:4]\n",
        "  right = bits[4:]\n",
        "\n",
        "  expansion_permutation = [3,0,1,2,1,2,3,0]\n",
        "  ep = _permutation_block(expansion_permutation, right)\n",
        "\n",
        "  xor_output = _xor(ep, subkey)\n",
        "\n",
        "  s0 = [\n",
        "        [1,0,3,2],\n",
        "        [3,2,1,0],\n",
        "        [0,2,1,3],\n",
        "        [3,1,3,2]\n",
        "  ]\n",
        "  s1 = [\n",
        "        [0,1,2,3],\n",
        "        [2,0,1,3],\n",
        "        [3,0,1,0],\n",
        "        [2,1,0,3]\n",
        "  ]\n",
        "\n",
        "  xor_left = xor_output[0:4]\n",
        "  row = 2*xor_left[0] + xor_left[3]\n",
        "  col = 2*xor_left[1] + xor_left[2]\n",
        "  s0_output_num = s0[row][col]\n",
        "  s0_output_bits = [int(s0_output_num/2), s0_output_num%2]\n",
        "\n",
        "  xor_right = xor_output[4:]\n",
        "  row = 2*xor_right[0] + xor_right[3]\n",
        "  col = 2*xor_right[1] + xor_right[2]\n",
        "  s1_output_num = s1[row][col]\n",
        "  s1_output_bits = [int(s1_output_num/2), s1_output_num%2]\n",
        "\n",
        "  s_output_bits = s0_output_bits + s1_output_bits\n",
        "\n",
        "  p4_matrix = [1,3,2,0]\n",
        "  p4 = _permutation_block(p4_matrix, s_output_bits)\n",
        "\n",
        "  final_left = _xor(p4, left)\n",
        "\n",
        "  return final_left+right\n",
        "\n",
        "def _sw(bits):\n",
        "  return bits[int(len(bits)/2):] + bits[0:int(len(bits)/2)]\n",
        "\n",
        "def _ip(bits):\n",
        "  return _permutation_block([1,5,2,0,3,7,4,6], bits)\n",
        "\n",
        "def _ip_inv(bits):\n",
        "  return _permutation_block([3,0,2,4,6,1,7,5], bits)"
      ],
      "execution_count": null,
      "outputs": []
    },
    {
      "cell_type": "code",
      "metadata": {
        "id": "x1u3-upWOb7P"
      },
      "source": [
        "# Class SDES\n",
        "\n",
        "class SDES:\n",
        "\n",
        "  def key_generation(self,key_bytearray):\n",
        "    p10 = _p10(key_bytearray)\n",
        "    ls1 = _shift(p10, 1)\n",
        "    k1 = _p8(ls1)\n",
        "    ls2 = _shift(ls1, 2)\n",
        "    k2 = _p8(ls2)\n",
        "    return k1, k2\n",
        "\n",
        "  def encryption(self,plain_text_bytearray, key_bytearray):\n",
        "    k1, k2 = self.key_generation(key_bytearray)\n",
        "    ip = _ip(plain_text_bytearray)\n",
        "    fk1 = _fk(k1, ip)\n",
        "    sw = _sw(fk1)\n",
        "    fk2 = _fk(k2, sw)\n",
        "    cipher_text_bytearray = _ip_inv(fk2)\n",
        "    return cipher_text_bytearray\n",
        "\n",
        "  def decryption(self,cipher_text_bytearray, key_bytearray):\n",
        "    k1, k2 = self.key_generation(key_bytearray)\n",
        "    ip = _ip(cipher_text_bytearray)\n",
        "    fk2 = _fk(k2, ip)\n",
        "    sw = _sw(fk2)\n",
        "    fk1 = _fk(k1, sw)\n",
        "    decrypted_text_bytearray = _ip_inv(fk1)\n",
        "    return decrypted_text_bytearray"
      ],
      "execution_count": null,
      "outputs": []
    },
    {
      "cell_type": "code",
      "metadata": {
        "colab": {
          "base_uri": "https://localhost:8080/"
        },
        "id": "Ke5ug9AaOjdS",
        "outputId": "ccb9f454-583e-4776-cb5f-6ec740e2eaf5"
      },
      "source": [
        "# Execution (Byte Level)\n",
        "\n",
        "def sample_execution():\n",
        "  sdes = SDES()\n",
        "  key_bytearray = [1,0,1,0,0,0,0,0,1,0]\n",
        "  plain_text_bytearray = [1,0,0,1,0,1,1,1]\n",
        "  cipher_text_bytearray = sdes.encryption(plain_text_bytearray, key_bytearray)\n",
        "  decrypted_text_bytearray = sdes.decryption(cipher_text_bytearray, key_bytearray)\n",
        "  print('10 bit Key =',key_bytearray)\n",
        "  print('8 bit Plain Text ByteArray =',plain_text_bytearray)\n",
        "  print('8 bit Cipher Text ByteArray =',cipher_text_bytearray)\n",
        "  print('8 bit Decrypted Text ByteArray =',decrypted_text_bytearray)\n",
        "\n",
        "sample_execution()"
      ],
      "execution_count": null,
      "outputs": [
        {
          "output_type": "stream",
          "text": [
            "10 bit Key = [1, 0, 1, 0, 0, 0, 0, 0, 1, 0]\n",
            "8 bit Plain Text ByteArray = [1, 0, 0, 1, 0, 1, 1, 1]\n",
            "8 bit Cipher Text ByteArray = [1, 0, 1, 1, 1, 0, 0, 0]\n",
            "8 bit Decrypted Text ByteArray = [1, 0, 0, 1, 0, 1, 1, 1]\n"
          ],
          "name": "stdout"
        }
      ]
    },
    {
      "cell_type": "code",
      "metadata": {
        "colab": {
          "base_uri": "https://localhost:8080/",
          "height": 35
        },
        "id": "Yq9XQbluQO4U",
        "outputId": "d36ed546-b0ce-4e62-a561-aef4959f05c5"
      },
      "source": [
        "# Encryption of a string\n",
        "\n",
        "def encrypt_text(plain_text, key_bytearray=[1,0,1,0,0,0,0,0,1,0]):\n",
        "\n",
        "  sdes = SDES()\n",
        "  encrypted_text = ''\n",
        "\n",
        "  # For each character in plain_text\n",
        "  for byte in bytearray(plain_text, \"utf8\"):\n",
        "    \n",
        "    # Get binary Representation\n",
        "    binary_representation = bin(byte)\n",
        "\n",
        "    # Remove the first two characters '0b'\n",
        "    binary_representation = binary_representation[2:]\n",
        "\n",
        "    # Pad with zero\n",
        "    binary_representation = '0'*(8-len(binary_representation)) + binary_representation\n",
        "\n",
        "    # Encrypt\n",
        "    cipher_text_bytearray = sdes.encryption([int(x) for x in list(binary_representation)], key_bytearray)\n",
        "\n",
        "    # Convert bytearray to character\n",
        "    binary_representation_cipher = ''\n",
        "    for digit in cipher_text_bytearray:\n",
        "      binary_representation_cipher += str(digit)\n",
        "\n",
        "    # Convert encoded text to utf-8\n",
        "    encrypted_text += chr(int(binary_representation_cipher, 2))\n",
        "    \n",
        "  return encrypted_text\n",
        "\n",
        "\n",
        "plain_text = \"Hi Google Colab\"\n",
        "cipher_text = encrypt_text(plain_text)\n",
        "cipher_text"
      ],
      "execution_count": null,
      "outputs": [
        {
          "output_type": "execute_result",
          "data": {
            "application/vnd.google.colaboratory.intrinsic+json": {
              "type": "string"
            },
            "text/plain": [
              "'ä\\x83ÂÅ««\\r©xÂ@«©ù\\x15'"
            ]
          },
          "metadata": {
            "tags": []
          },
          "execution_count": 4
        }
      ]
    },
    {
      "cell_type": "code",
      "metadata": {
        "colab": {
          "base_uri": "https://localhost:8080/",
          "height": 35
        },
        "id": "e9DaAJpAS5WX",
        "outputId": "1a22fe89-7ad7-4743-93c6-6c8791458920"
      },
      "source": [
        "# Decryption of a string\n",
        "\n",
        "def decrypt_text(cipher_text, key_bytearray=[1,0,1,0,0,0,0,0,1,0]):\n",
        "\n",
        "  sdes = SDES()\n",
        "  decrypted_text = ''\n",
        "\n",
        "  # For each character in cipher_text\n",
        "  for character in cipher_text:\n",
        "    \n",
        "    # Convert utf-8 character to binary and remove '0b'\n",
        "    binary_representation = bin(ord(character))[2:]\n",
        "\n",
        "    # Padding\n",
        "    binary_representation = '0'*(8-len(binary_representation)) + binary_representation\n",
        "    \n",
        "    # Decrypt\n",
        "    decrypted_text_bytearray = sdes.decryption([int(x) for x in list(binary_representation)], key_bytearray)\n",
        "\n",
        "    # Convert bytearray to character\n",
        "    binary_representation_decrypted = ''\n",
        "    for digit in decrypted_text_bytearray:\n",
        "      binary_representation_decrypted += str(digit)\n",
        "\n",
        "    # Convert encoded text to utf-8\n",
        "    decrypted_text += chr(int(binary_representation_decrypted, 2))\n",
        "\n",
        "  return decrypted_text\n",
        "\n",
        "\n",
        "decrypted_text = decrypt_text(cipher_text)\n",
        "decrypted_text"
      ],
      "execution_count": null,
      "outputs": [
        {
          "output_type": "execute_result",
          "data": {
            "application/vnd.google.colaboratory.intrinsic+json": {
              "type": "string"
            },
            "text/plain": [
              "'Hi Google Colab'"
            ]
          },
          "metadata": {
            "tags": []
          },
          "execution_count": 5
        }
      ]
    },
    {
      "cell_type": "code",
      "metadata": {
        "colab": {
          "base_uri": "https://localhost:8080/"
        },
        "id": "0DuM544XgZRT",
        "outputId": "3867cea0-77fe-4926-8d92-cf54c4421549"
      },
      "source": [
        "plain_text = 'This is first assignment of ICS'\n",
        "cipher_text = encrypt_text(plain_text)\n",
        "decrypted_text = decrypt_text(cipher_text)\n",
        "\n",
        "print('Plain Text = ',plain_text)\n",
        "print('Cipher Text = ',cipher_text)\n",
        "print('Decrypted Text = ',decrypted_text)"
      ],
      "execution_count": null,
      "outputs": [
        {
          "output_type": "stream",
          "text": [
            "Plain Text =  This is first assignment of ICS\n",
            "Cipher Text =  \fcÂcÂPóc*Âùcc\r~æx~*Â«PÂ+@Ë\n",
            "Decrypted Text =  This is first assignment of ICS\n"
          ],
          "name": "stdout"
        }
      ]
    }
  ]
}